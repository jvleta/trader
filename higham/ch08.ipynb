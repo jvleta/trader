{
 "cells": [
  {
   "cell_type": "code",
   "execution_count": 3,
   "id": "a5f50f6d-f48b-4afb-841d-f2312762c4fd",
   "metadata": {},
   "outputs": [],
   "source": [
    "from blackscholes import solve_bse"
   ]
  },
  {
   "cell_type": "code",
   "execution_count": 6,
   "id": "63a36cdb-4e42-4c1f-83cb-161157643115",
   "metadata": {},
   "outputs": [
    {
     "name": "stdout",
     "output_type": "stream",
     "text": [
      "0.06914188052850295 0.2586301926840547 0.49525571439977334 -0.7413698073159454\n"
     ]
    }
   ],
   "source": [
    "S = 2\n",
    "E = 2.5\n",
    "r = 0.03\n",
    "sigma = 0.25\n",
    "tau = 1\n",
    "C, Cdelta, P, Pdelta = solve_bse(S, E, r, sigma, tau)\n",
    "print(C, Cdelta, P, Pdelta)"
   ]
  },
  {
   "cell_type": "code",
   "execution_count": null,
   "id": "d7e3e102-342b-43f2-bceb-10b1810eec82",
   "metadata": {},
   "outputs": [],
   "source": []
  }
 ],
 "metadata": {
  "kernelspec": {
   "display_name": "Python 3 (ipykernel)",
   "language": "python",
   "name": "python3"
  },
  "language_info": {
   "codemirror_mode": {
    "name": "ipython",
    "version": 3
   },
   "file_extension": ".py",
   "mimetype": "text/x-python",
   "name": "python",
   "nbconvert_exporter": "python",
   "pygments_lexer": "ipython3",
   "version": "3.13.4"
  }
 },
 "nbformat": 4,
 "nbformat_minor": 5
}
